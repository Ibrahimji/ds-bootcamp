{
 "cells": [
  {
   "cell_type": "code",
   "execution_count": 1,
   "id": "29d06fff",
   "metadata": {},
   "outputs": [],
   "source": [
    "age=[]"
   ]
  },
  {
   "cell_type": "code",
   "execution_count": 2,
   "id": "3aba785a",
   "metadata": {},
   "outputs": [
    {
     "name": "stdout",
     "output_type": "stream",
     "text": [
      "[]\n"
     ]
    }
   ],
   "source": [
    "print(age)"
   ]
  },
  {
   "cell_type": "code",
   "execution_count": 4,
   "id": "aa897797",
   "metadata": {},
   "outputs": [],
   "source": [
    "age=[30,20,40]"
   ]
  },
  {
   "cell_type": "code",
   "execution_count": 5,
   "id": "fdd9489c",
   "metadata": {},
   "outputs": [],
   "source": [
    "age[0]=10"
   ]
  },
  {
   "cell_type": "code",
   "execution_count": 6,
   "id": "502c587c",
   "metadata": {},
   "outputs": [
    {
     "name": "stdout",
     "output_type": "stream",
     "text": [
      "[10, 20, 40]\n"
     ]
    }
   ],
   "source": [
    "print(age)"
   ]
  },
  {
   "cell_type": "code",
   "execution_count": 7,
   "id": "255e1c41",
   "metadata": {},
   "outputs": [
    {
     "data": {
      "text/plain": [
       "[10, 20, 40, 10, 20, 40]"
      ]
     },
     "execution_count": 7,
     "metadata": {},
     "output_type": "execute_result"
    }
   ],
   "source": [
    "age*2"
   ]
  },
  {
   "cell_type": "code",
   "execution_count": 8,
   "id": "f1d2a789",
   "metadata": {},
   "outputs": [
    {
     "name": "stdout",
     "output_type": "stream",
     "text": [
      "[10, 20, 40]\n"
     ]
    }
   ],
   "source": [
    "print(age)"
   ]
  },
  {
   "cell_type": "code",
   "execution_count": 9,
   "id": "ae628fc4",
   "metadata": {},
   "outputs": [],
   "source": [
    "names=[\"abu\",\"Awa\",\"Ada\"]"
   ]
  },
  {
   "cell_type": "code",
   "execution_count": 10,
   "id": "fce357bf",
   "metadata": {},
   "outputs": [
    {
     "data": {
      "text/plain": [
       "'abu'"
      ]
     },
     "execution_count": 10,
     "metadata": {},
     "output_type": "execute_result"
    }
   ],
   "source": [
    "names[0]"
   ]
  },
  {
   "cell_type": "code",
   "execution_count": 11,
   "id": "6ed18a43",
   "metadata": {},
   "outputs": [],
   "source": [
    "names[0]=\"Umar\""
   ]
  },
  {
   "cell_type": "code",
   "execution_count": 12,
   "id": "940da2c6",
   "metadata": {},
   "outputs": [
    {
     "data": {
      "text/plain": [
       "'Umar'"
      ]
     },
     "execution_count": 12,
     "metadata": {},
     "output_type": "execute_result"
    }
   ],
   "source": [
    "names[0]"
   ]
  },
  {
   "cell_type": "code",
   "execution_count": 13,
   "id": "f28ca779",
   "metadata": {},
   "outputs": [],
   "source": [
    "names.append(\"Abubakar\")"
   ]
  },
  {
   "cell_type": "code",
   "execution_count": 14,
   "id": "4183823c",
   "metadata": {},
   "outputs": [
    {
     "data": {
      "text/plain": [
       "['Umar', 'Awa', 'Ada', 'Abubakar']"
      ]
     },
     "execution_count": 14,
     "metadata": {},
     "output_type": "execute_result"
    }
   ],
   "source": [
    "names"
   ]
  },
  {
   "cell_type": "code",
   "execution_count": 15,
   "id": "84bed347",
   "metadata": {},
   "outputs": [],
   "source": [
    "names.append(\"Jalo\")"
   ]
  },
  {
   "cell_type": "code",
   "execution_count": 16,
   "id": "265b1199",
   "metadata": {},
   "outputs": [
    {
     "data": {
      "text/plain": [
       "['Umar', 'Awa', 'Ada', 'Abubakar', 'Jalo']"
      ]
     },
     "execution_count": 16,
     "metadata": {},
     "output_type": "execute_result"
    }
   ],
   "source": [
    "names"
   ]
  },
  {
   "cell_type": "code",
   "execution_count": 17,
   "id": "014f27ed",
   "metadata": {},
   "outputs": [
    {
     "data": {
      "text/plain": [
       "40"
      ]
     },
     "execution_count": 17,
     "metadata": {},
     "output_type": "execute_result"
    }
   ],
   "source": [
    "age.pop(2)"
   ]
  },
  {
   "cell_type": "code",
   "execution_count": null,
   "id": "e3661cd8",
   "metadata": {},
   "outputs": [],
   "source": []
  }
 ],
 "metadata": {
  "kernelspec": {
   "display_name": "Python 3",
   "language": "python",
   "name": "python3"
  },
  "language_info": {
   "codemirror_mode": {
    "name": "ipython",
    "version": 3
   },
   "file_extension": ".py",
   "mimetype": "text/x-python",
   "name": "python",
   "nbconvert_exporter": "python",
   "pygments_lexer": "ipython3",
   "version": "3.8.8"
  }
 },
 "nbformat": 4,
 "nbformat_minor": 5
}
